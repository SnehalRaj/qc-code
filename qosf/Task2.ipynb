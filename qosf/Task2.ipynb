{
 "cells": [
  {
   "cell_type": "code",
   "execution_count": 105,
   "metadata": {},
   "outputs": [],
   "source": [
    "from qiskit import QuantumCircuit, execute, Aer\n",
    "import qiskit.providers.aer.noise as noise\n",
    "from random import uniform as randUniform\n",
    "from math import pi\n",
    "from qiskit.visualization import plot_histogram\n",
    "from matplotlib import style\n",
    "import matplotlib.pyplot as plt\n",
    "%matplotlib inline\n"
   ]
  },
  {
   "cell_type": "code",
   "execution_count": 106,
   "metadata": {},
   "outputs": [],
   "source": [
    "\n",
    "from qiskit.providers.aer.noise.errors import depolarizing_error\n"
   ]
  },
  {
   "cell_type": "markdown",
   "metadata": {},
   "source": [
    "## Count functions"
   ]
  },
  {
   "cell_type": "markdown",
   "metadata": {},
   "source": [
    "#### Getting the counts for by using qasm simulator. The error model used is by depolarizing aer.noise and the probabilities are chosen randomly."
   ]
  },
  {
   "cell_type": "code",
   "execution_count": 107,
   "metadata": {},
   "outputs": [],
   "source": [
    "def get_counts(params,shots):\n",
    "    prob_1 = 0.001  # For Rx and Ry\n",
    "    prob_2 = 0.01  # For CX\n",
    "\n",
    "    # Depolarizing quantum errors\n",
    "    error_1 = depolarizing_error(prob_1, 1)\n",
    "    error_2 = depolarizing_error(prob_2, 2)\n",
    "\n",
    "    # Add errors to noise model\n",
    "    noise_model = noise.NoiseModel()\n",
    "    noise_model.add_all_qubit_quantum_error(error_1, ['u1', 'u2'])\n",
    "    noise_model.add_all_qubit_quantum_error(error_2, ['cx'])\n",
    "\n",
    "    # Get basis gates from noise model\n",
    "    basis_gates = noise_model.basis_gates\n",
    "\n",
    "   # Two qubits and two classical bits\n",
    "    circ = QuantumCircuit(2, 2)\n",
    "\n",
    "    circ.ry(params[0], 0)\n",
    "    circ.rx(params[1], 1)\n",
    "    circ.cx(0, 1)\n",
    "    circ.measure([0, 1], [0, 1])\n",
    "\n",
    "    # Perform a noisy simulation and get the counts\n",
    "    result = execute(circ, Aer.get_backend('qasm_simulator'),\n",
    "                     basis_gates=basis_gates,\n",
    "                     noise_model=noise_model, shots=shots).result()\n",
    "    counts = result.get_counts()\n",
    "    return counts"
   ]
  },
  {
   "cell_type": "markdown",
   "metadata": {},
   "source": [
    "## Loss Function"
   ]
  },
  {
   "cell_type": "code",
   "execution_count": 108,
   "metadata": {},
   "outputs": [],
   "source": [
    "def get_loss(counts):\n",
    "    try:\n",
    "        xx = counts['00']\n",
    "    except KeyError:\n",
    "        xx = 0\n",
    "    try:\n",
    "        xy = counts['01']\n",
    "    except KeyError:\n",
    "        xy = 0\n",
    "    try:\n",
    "        yx = counts['10']\n",
    "    except KeyError:\n",
    "        yx = 0\n",
    "    try:\n",
    "        yy = counts['11']\n",
    "    except KeyError:\n",
    "        yy = 0\n",
    "    total = xx+xy+yx+yy\n",
    "    # We would ideally want the costs at '00' and '11' to be as close to 0 as possible\n",
    "    # and counts at '01' and '10' to be as close to total/2\n",
    "    loss = [abs(xx-0),abs(xy-total/2),abs(yx-total/2),abs(yy-0)]\n",
    "    return loss"
   ]
  },
  {
   "cell_type": "markdown",
   "metadata": {},
   "source": [
    "## Stopping criteria"
   ]
  },
  {
   "cell_type": "code",
   "execution_count": 109,
   "metadata": {},
   "outputs": [],
   "source": [
    "def stop(loss, error, shots):\n",
    "    for l in loss:\n",
    "        if l> error*shots:\n",
    "            return False\n",
    "    return True"
   ]
  },
  {
   "cell_type": "markdown",
   "metadata": {},
   "source": [
    "## Gradient "
   ]
  },
  {
   "cell_type": "code",
   "execution_count": 110,
   "metadata": {},
   "outputs": [],
   "source": [
    "def get_gradient(counts):\n",
    "    try:\n",
    "        xx = counts['00']\n",
    "    except KeyError:\n",
    "        xx = 0\n",
    "    try:\n",
    "        xy = counts['01']\n",
    "    except KeyError:\n",
    "        xy = 0\n",
    "    try:\n",
    "        yx = counts['10']\n",
    "    except KeyError:\n",
    "        yx = 0\n",
    "    try:\n",
    "        yy = counts['11']\n",
    "    except KeyError:\n",
    "        yy = 0\n",
    "    total = xx+xy+yx+yy\n",
    "    grad_ry = ((xy+yy) - (xx+yx))/total\n",
    "    grad_rx = pi*(xx+yy)/total\n",
    "    return [grad_ry, grad_rx]"
   ]
  },
  {
   "cell_type": "markdown",
   "metadata": {},
   "source": [
    "## Main loop"
   ]
  },
  {
   "cell_type": "code",
   "execution_count": 111,
   "metadata": {},
   "outputs": [],
   "source": [
    "def start(shots=1000, error= 0.01, lr=1,printing=True):\n",
    "    params = [randUniform(0, 2 * pi), randUniform(0, 2 * pi)]\n",
    "    descending = True\n",
    "    counts = []\n",
    "#     loss = []\n",
    "    steps = 0\n",
    "    while descending:\n",
    "        counts = get_counts(params, shots)\n",
    "        loss = get_loss(counts)\n",
    "\n",
    "        if stop(loss, shots, error):\n",
    "            descending = False\n",
    "            break\n",
    "\n",
    "        gradient = get_gradient(counts)\n",
    "        for i in range(len(params)):\n",
    "            params[i] -= lr * gradient[i]\n",
    "            while params[i] < 0:\n",
    "                params[i] += 2 * pi\n",
    "            params[i] = params[i] % (2 * pi)\n",
    "        if(printing):\n",
    "            print(\"Steps No: \"+str(steps))\n",
    "            print(\"Loss: \"+str(loss))\n",
    "            print(\"Parameters: \"+str(params))\n",
    "            print(\"Counts: \"+str(counts))\n",
    "            print(\"\\n\\n\")\n",
    "        steps += 1\n",
    "    if(printing):\n",
    "        print(\"FINAL\")\n",
    "        print(\"Steps Taken: \"+str(steps))\n",
    "        print(\"Loss: \"+str(loss))\n",
    "        print(\"Final parameters: \"+str(params))\n",
    "        print(\"Counts: \"+str(counts))\n",
    "    return counts"
   ]
  },
  {
   "cell_type": "code",
   "execution_count": 112,
   "metadata": {},
   "outputs": [
    {
     "name": "stdout",
     "output_type": "stream",
     "text": [
      "Steps No: 0\n",
      "Loss: [704, 483.0, 260.0, 39]\n",
      "Parameters: [1.3232644561395297, 5.047379198319719]\n",
      "Counts: {'01': 17, '00': 704, '10': 240, '11': 39}\n",
      "\n",
      "\n",
      "\n",
      "Steps No: 1\n",
      "Loss: [414, 379.0, 290.0, 255]\n",
      "Parameters: [1.5712644561395297, 2.9456537130681477]\n",
      "Counts: {'01': 121, '00': 414, '10': 210, '11': 255}\n",
      "\n",
      "\n",
      "\n",
      "Steps No: 2\n",
      "Loss: [7, 3.0, 13.0, 9]\n",
      "Parameters: [1.5592644561395297, 2.895388230610711]\n",
      "Counts: {'01': 497, '00': 7, '10': 487, '11': 9}\n",
      "\n",
      "\n",
      "\n",
      "Steps No: 3\n",
      "Loss: [8, 13.0, 4.0, 9]\n",
      "Parameters: [1.5672644561395297, 2.8419811554996848]\n",
      "Counts: {'01': 487, '00': 8, '10': 496, '11': 9}\n",
      "\n",
      "\n",
      "\n",
      "Steps No: 4\n",
      "Loss: [8, 2.0, 27.0, 21]\n",
      "Parameters: [1.5292644561395297, 2.7508749685455807]\n",
      "Counts: {'01': 498, '00': 8, '10': 473, '11': 21}\n",
      "\n",
      "\n",
      "\n",
      "Steps No: 5\n",
      "Loss: [26, 57.0, 14.0, 17]\n",
      "Parameters: [1.6092644561395297, 2.6157864844412195]\n",
      "Counts: {'01': 443, '00': 26, '10': 514, '11': 17}\n",
      "\n",
      "\n",
      "\n",
      "Steps No: 6\n",
      "Loss: [25, 11.0, 62.0, 48]\n",
      "Parameters: [1.5352644561395297, 2.3864502207291647]\n",
      "Counts: {'01': 489, '00': 25, '10': 438, '11': 48}\n",
      "\n",
      "\n",
      "\n",
      "Steps No: 7\n",
      "Loss: [62, 72.0, 50.0, 60]\n",
      "Parameters: [1.5592644561395297, 2.00317591699121]\n",
      "Counts: {'01': 428, '00': 62, '10': 450, '11': 60}\n",
      "\n",
      "\n",
      "\n",
      "Steps No: 8\n",
      "Loss: [155, 147.0, 157.0, 149]\n",
      "Parameters: [1.5552644561395297, 1.0481317502999126]\n",
      "Counts: {'01': 353, '00': 155, '10': 343, '11': 149}\n",
      "\n",
      "\n",
      "\n",
      "Steps No: 9\n",
      "Loss: [360, 352.0, 371.0, 363]\n",
      "Parameters: [1.5332644561395297, 5.059945568934078]\n",
      "Counts: {'01': 148, '00': 360, '10': 129, '11': 363}\n",
      "\n",
      "\n",
      "\n",
      "Steps No: 10\n",
      "Loss: [359, 341.0, 333.0, 315]\n",
      "Parameters: [1.5852644561395297, 2.942512120414558]\n",
      "Counts: {'01': 159, '00': 359, '10': 167, '11': 315}\n",
      "\n",
      "\n",
      "\n",
      "Steps No: 11\n",
      "Loss: [9, 19.0, 2.0, 12]\n",
      "Parameters: [1.5992644561395297, 2.8765386746891726]\n",
      "Counts: {'01': 481, '00': 9, '10': 498, '11': 12}\n",
      "\n",
      "\n",
      "\n",
      "Steps No: 12\n",
      "Loss: [15, 7.0, 34.0, 12]\n",
      "Parameters: [1.5612644561395297, 2.791715673042248]\n",
      "Counts: {'01': 507, '00': 15, '10': 466, '11': 12}\n",
      "\n",
      "\n",
      "\n",
      "Steps No: 13\n",
      "Loss: [18, 7.0, 38.0, 27]\n",
      "Parameters: [1.5212644561395297, 2.6503440036307073]\n",
      "Counts: {'01': 493, '00': 18, '10': 462, '11': 27}\n",
      "\n",
      "\n",
      "\n",
      "Steps No: 14\n",
      "Loss: [35, 35.0, 29.0, 29]\n",
      "Parameters: [1.5332644561395297, 2.4492820738009606]\n",
      "Counts: {'01': 465, '00': 35, '10': 471, '11': 29}\n",
      "\n",
      "\n",
      "\n",
      "Steps No: 15\n",
      "Loss: [62, 93.0, 38.0, 69]\n",
      "Parameters: [1.5812644561395297, 2.0377334361806976]\n",
      "Counts: {'01': 407, '00': 62, '10': 462, '11': 69}\n",
      "\n",
      "\n",
      "\n",
      "Steps No: 16\n",
      "Loss: [139, 147.0, 139.0, 147]\n",
      "Parameters: [1.5812644561395297, 1.1392379372540167]\n",
      "Counts: {'01': 353, '00': 139, '10': 361, '11': 147}\n",
      "\n",
      "\n",
      "\n",
      "Steps No: 17\n",
      "Loss: [352, 364.0, 353.0, 365]\n",
      "Parameters: [1.5792644561395297, 5.1699013118097215]\n",
      "Counts: {'01': 136, '00': 352, '10': 147, '11': 365}\n",
      "\n",
      "\n",
      "\n",
      "Steps No: 18\n",
      "Loss: [374, 360.0, 346.0, 332]\n",
      "Parameters: [1.6352644561395298, 2.9519368983753274]\n",
      "Counts: {'01': 140, '00': 374, '10': 154, '11': 332}\n",
      "\n",
      "\n",
      "\n",
      "Steps No: 19\n",
      "Loss: [12, 32.0, 48.0, 4]\n",
      "Parameters: [1.5632644561395297, 2.9016714159178907]\n",
      "Counts: {'01': 532, '00': 12, '10': 452, '11': 4}\n",
      "\n",
      "\n",
      "\n",
      "Steps No: 20\n",
      "Loss: [20, 18.0, 13.0, 11]\n",
      "Parameters: [1.5772644561395297, 2.804282043656607]\n",
      "Counts: {'01': 482, '00': 20, '10': 487, '11': 11}\n",
      "\n",
      "\n",
      "\n",
      "Steps No: 21\n",
      "Loss: [17, 3.0, 33.0, 19]\n",
      "Parameters: [1.5452644561395297, 2.6911847081273743]\n",
      "Counts: {'01': 497, '00': 17, '10': 467, '11': 19}\n",
      "\n",
      "\n",
      "\n",
      "Steps No: 22\n",
      "Loss: [29, 33.0, 22.0, 26]\n",
      "Parameters: [1.5592644561395297, 2.518397112179936]\n",
      "Counts: {'01': 467, '00': 29, '10': 478, '11': 26}\n",
      "\n",
      "\n",
      "\n",
      "Steps No: 23\n",
      "Loss: [59, 44.0, 65.0, 50]\n",
      "Parameters: [1.5472644561395297, 2.1759635129386483]\n",
      "Counts: {'01': 456, '00': 59, '10': 435, '11': 50}\n",
      "\n",
      "\n",
      "\n",
      "Steps No: 24\n",
      "Loss: [116, 77.0, 143.0, 104]\n",
      "Parameters: [1.4932644561395296, 1.4848131291488937]\n",
      "Counts: {'01': 423, '00': 116, '10': 357, '11': 104}\n",
      "\n",
      "\n",
      "\n",
      "Steps No: 25\n",
      "Loss: [284, 263.0, 272.0, 251]\n",
      "Parameters: [1.5172644561395296, 6.087246366657941]\n",
      "Counts: {'01': 237, '00': 284, '10': 228, '11': 251}\n",
      "\n",
      "\n",
      "\n",
      "Steps No: 26\n",
      "Loss: [514, 490.0, 491.0, 467]\n",
      "Parameters: [1.5632644561395297, 3.005343973486354]\n",
      "Counts: {'01': 10, '00': 514, '10': 9, '11': 467}\n",
      "\n",
      "\n",
      "\n",
      "Steps No: 27\n",
      "Loss: [3, 42.0, 34.0, 5]\n",
      "Parameters: [1.6372644561395298, 2.9802112322576355]\n",
      "Counts: {'01': 458, '00': 3, '10': 534, '11': 5}\n",
      "\n",
      "\n",
      "\n",
      "Steps No: 28\n",
      "Loss: [7, 28.0, 39.0, 4]\n",
      "Parameters: [1.5732644561395297, 2.9456537130681477]\n",
      "Counts: {'01': 528, '00': 7, '10': 461, '11': 4}\n",
      "\n",
      "\n",
      "\n",
      "Steps No: 29\n",
      "Loss: [9, 13.0, 29.0, 7]\n",
      "Parameters: [1.5332644561395297, 2.895388230610711]\n",
      "Counts: {'01': 513, '00': 9, '10': 471, '11': 7}\n",
      "\n",
      "\n",
      "\n",
      "Steps No: 30\n",
      "Loss: [15, 36.0, 16.0, 5]\n",
      "Parameters: [1.5952644561395297, 2.832556377538915]\n",
      "Counts: {'01': 464, '00': 15, '10': 516, '11': 5}\n",
      "\n",
      "\n",
      "\n",
      "Steps No: 31\n",
      "Loss: [17, 0.0, 26.0, 9]\n",
      "Parameters: [1.5772644561395297, 2.7508749685455807]\n",
      "Counts: {'01': 500, '00': 17, '10': 474, '11': 9}\n",
      "\n",
      "\n",
      "\n",
      "Steps No: 32\n",
      "Loss: [20, 22.0, 20.0, 22]\n",
      "Parameters: [1.5772644561395297, 2.618928077094809]\n",
      "Counts: {'01': 478, '00': 20, '10': 480, '11': 22}\n",
      "\n",
      "\n",
      "\n",
      "Steps No: 33\n",
      "Loss: [46, 55.0, 27.0, 36]\n",
      "Parameters: [1.6152644561395297, 2.361317479500446]\n",
      "Counts: {'01': 445, '00': 46, '10': 473, '11': 36}\n",
      "\n",
      "\n",
      "\n",
      "Steps No: 34\n",
      "Loss: [68, 68.0, 76.0, 76]\n",
      "Parameters: [1.5992644561395297, 1.9089281373835159]\n",
      "Counts: {'01': 432, '00': 68, '10': 424, '11': 76}\n",
      "\n",
      "\n",
      "\n",
      "Steps No: 35\n",
      "Loss: [158, 157.0, 165.0, 164]\n",
      "Parameters: [1.5852644561395297, 0.8973353029276026]\n",
      "Counts: {'01': 343, '00': 158, '10': 335, '11': 164}\n",
      "\n",
      "\n",
      "\n",
      "Steps No: 36\n",
      "Loss: [397, 408.0, 409.0, 420]\n",
      "Parameters: [1.5612644561395297, 4.613839412124328]\n",
      "Counts: {'01': 92, '00': 397, '10': 91, '11': 420}\n",
      "\n",
      "\n",
      "\n",
      "Steps No: 37\n",
      "Loss: [250, 256.0, 226.0, 232]\n",
      "Parameters: [1.6092644561395297, 3.0995917530940478]\n",
      "Counts: {'01': 244, '00': 250, '10': 274, '11': 232}\n",
      "\n",
      "\n",
      "\n",
      "Steps No: 38\n",
      "Loss: [4, 15.0, 22.0, 3]\n",
      "Parameters: [1.5732644561395297, 3.0776006045189193]\n",
      "Counts: {'01': 515, '00': 4, '10': 478, '11': 3}\n",
      "\n",
      "\n",
      "\n",
      "Steps No: 39\n",
      "Loss: [5, 16.0, 8.0, 3]\n",
      "Parameters: [1.5992644561395297, 3.0524678632902007]\n",
      "Counts: {'01': 484, '00': 5, '10': 508, '11': 3}\n",
      "\n",
      "\n",
      "\n",
      "FINAL\n",
      "Steps Taken: 40\n",
      "Loss: [7, 7.0, 9.0, 9]\n",
      "Final parameters: [1.5992644561395297, 3.0524678632902007]\n",
      "Counts: {'01': 493, '00': 7, '10': 491, '11': 9}\n"
     ]
    }
   ],
   "source": [
    "counts = start()"
   ]
  },
  {
   "cell_type": "code",
   "execution_count": 113,
   "metadata": {},
   "outputs": [
    {
     "data": {
      "image/png": "[encoded data removed]",
      "text/plain": [
       "<Figure size 504x360 with 1 Axes>"
      ]
     },
     "execution_count": 113,
     "metadata": {},
     "output_type": "execute_result"
    }
   ],
   "source": [
    "plot_histogram([counts], legend=['output'])"
   ]
  },
  {
   "cell_type": "markdown",
   "metadata": {},
   "source": [
    "## Compare results for 1, 10, 100, 1000"
   ]
  },
  {
   "cell_type": "markdown",
   "metadata": {},
   "source": [
    "### For 1 shot, convergence only when allowed error is >=0.5"
   ]
  },
  {
   "cell_type": "code",
   "execution_count": 114,
   "metadata": {},
   "outputs": [
    {
     "name": "stdout",
     "output_type": "stream",
     "text": [
      "FINAL\n",
      "Steps Taken: 0\n",
      "Loss: [0, 0.5, 0.5, 0]\n",
      "Final parameters: [4.339704005719533, 1.119962707172297]\n",
      "Counts: {'01': 1}\n",
      "Counts: {'01': 1}\n"
     ]
    },
    {
     "data": {
      "image/png": "[encoded data removed]",
      "text/plain": [
       "<Figure size 504x360 with 1 Axes>"
      ]
     },
     "execution_count": 114,
     "metadata": {},
     "output_type": "execute_result"
    }
   ],
   "source": [
    "counts=start(shots=1,error=0.5,printing=True)\n",
    "print(\"Counts: \"+str(counts))\n",
    "plot_histogram([counts], legend=['output'])"
   ]
  },
  {
   "cell_type": "code",
   "execution_count": 115,
   "metadata": {},
   "outputs": [
    {
     "name": "stdout",
     "output_type": "stream",
     "text": [
      "Counts: {'01': 5, '10': 5}\n"
     ]
    },
    {
     "data": {
      "image/png": "[encoded data removed]",
      "text/plain": [
       "<Figure size 504x360 with 1 Axes>"
      ]
     },
     "execution_count": 115,
     "metadata": {},
     "output_type": "execute_result"
    }
   ],
   "source": [
    "counts=start(shots=10,printing=False)\n",
    "print(\"Counts: \"+str(counts))\n",
    "plot_histogram([counts], legend=['output'])\n"
   ]
  },
  {
   "cell_type": "code",
   "execution_count": 116,
   "metadata": {},
   "outputs": [
    {
     "name": "stdout",
     "output_type": "stream",
     "text": [
      "Counts: {'01': 50, '10': 50}\n"
     ]
    },
    {
     "data": {
      "image/png": "[encoded data removed]",
      "text/plain": [
       "<Figure size 504x360 with 1 Axes>"
      ]
     },
     "execution_count": 116,
     "metadata": {},
     "output_type": "execute_result"
    }
   ],
   "source": [
    "counts=start(shots=100,printing=False)\n",
    "print(\"Counts: \"+str(counts))\n",
    "plot_histogram([counts], legend=['output'])"
   ]
  },
  {
   "cell_type": "code",
   "execution_count": 117,
   "metadata": {},
   "outputs": [
    {
     "name": "stdout",
     "output_type": "stream",
     "text": [
      "Counts: {'01': 503, '00': 2, '10': 493, '11': 2}\n"
     ]
    },
    {
     "data": {
      "image/png": "[encoded data removed]",
      "text/plain": [
       "<Figure size 504x360 with 1 Axes>"
      ]
     },
     "execution_count": 117,
     "metadata": {},
     "output_type": "execute_result"
    }
   ],
   "source": [
    "counts=start(shots=1000,printing=False)\n",
    "print(\"Counts: \"+str(counts))\n",
    "plot_histogram([counts], legend=['output'])"
   ]
  }
 ],
 "metadata": {
  "kernelspec": {
   "display_name": "Python 3",
   "language": "python",
   "name": "python3"
  },
  "language_info": {
   "codemirror_mode": {
    "name": "ipython",
    "version": 3
   },
   "file_extension": ".py",
   "mimetype": "text/x-python",
   "name": "python",
   "nbconvert_exporter": "python",
   "pygments_lexer": "ipython3",
   "version": "3.7.3"
  }
 },
 "nbformat": 4,
 "nbformat_minor": 2
}
