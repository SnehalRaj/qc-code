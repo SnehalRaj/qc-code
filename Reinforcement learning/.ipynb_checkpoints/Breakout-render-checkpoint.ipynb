{
 "cells": [
  {
   "cell_type": "code",
   "execution_count": 1,
   "metadata": {},
   "outputs": [
    {
     "data": {
      "image/png": "[encoded data removed]",
      "text/plain": [
       "<Figure size 432x288 with 1 Axes>"
      ]
     },
     "metadata": {
      "needs_background": "light"
     },
     "output_type": "display_data"
    }
   ],
   "source": [
    "import gym\n",
    "from matplotlib import pyplot as plt\n",
    "from IPython.display import clear_output\n",
    "%matplotlib inline \n",
    "env = gym.make('Breakout-v0')\n",
    "env.reset()\n",
    "for t in range(200): # Set maximum timesteps as 100\n",
    "    plt.imshow(env.render(mode='rgb_array'))\n",
    "    display(plt.gcf())\n",
    "    action = env.action_space.sample()\n",
    "    observation, reward, done, info = env.step(action) # Take random actions\n",
    "    print(reward, done)\n",
    "    clear_output(wait=True)"
   ]
  },
  {
   "cell_type": "code",
   "execution_count": null,
   "metadata": {},
   "outputs": [
    {
     "data": {
      "image/png": "[encoded data removed]",
      "text/plain": [
       "<Figure size 432x288 with 1 Axes>"
      ]
     },
     "metadata": {},
     "output_type": "display_data"
    },
    {
     "name": "stdout",
     "output_type": "stream",
     "text": [
      "0.0 False\n"
     ]
    }
   ],
   "source": [
    "import gym\n",
    "from matplotlib import pyplot as plt\n",
    "from IPython.display import clear_output\n",
    "%matplotlib inline \n",
    "env = gym.make('Breakout-v0')\n",
    "env.reset()\n",
    "\n",
    "for t in range(100):\n",
    "    plt.imshow(env.render(mode='rgb_array'))\n",
    "    display(plt.gcf())\n",
    "    action = env.action_space.sample()\n",
    "    observation, reward, done, info = env.step(action) # Take random actions\n",
    "    print(reward, done)\n",
    "    clear_output(wait=True)"
   ]
  },
  {
   "cell_type": "code",
   "execution_count": null,
   "metadata": {},
   "outputs": [],
   "source": []
  }
 ],
 "metadata": {
  "kernelspec": {
   "display_name": "Python 3",
   "language": "python",
   "name": "python3"
  },
  "language_info": {
   "codemirror_mode": {
    "name": "ipython",
    "version": 3
   },
   "file_extension": ".py",
   "mimetype": "text/x-python",
   "name": "python",
   "nbconvert_exporter": "python",
   "pygments_lexer": "ipython3",
   "version": "3.7.3"
  }
 },
 "nbformat": 4,
 "nbformat_minor": 2
}
