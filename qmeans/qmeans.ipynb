{
 "cells": [
  {
   "cell_type": "code",
   "execution_count": 4,
   "metadata": {},
   "outputs": [],
   "source": [
    "import pandas as pd\n",
    "import numpy as np\n",
    "import matplotlib.pyplot as plt\n",
    "from copy import deepcopy\n",
    "from numpy import pi\n",
    "from qiskit import QuantumRegister, ClassicalRegister\n",
    "from qiskit import QuantumCircuit\n",
    "from qiskit import Aer, execute"
   ]
  },
  {
   "cell_type": "code",
   "execution_count": 18,
   "metadata": {},
   "outputs": [],
   "source": [
    "# Get the data from the .csv file\n",
    "df = pd.read_csv('data.csv',\n",
    "    usecols=['Feature 1', 'Feature 2', 'Class'])"
   ]
  },
  {
   "cell_type": "code",
   "execution_count": 19,
   "metadata": {},
   "outputs": [
    {
     "data": {
      "text/html": [
       "<div>\n",
       "<style scoped>\n",
       "    .dataframe tbody tr th:only-of-type {\n",
       "        vertical-align: middle;\n",
       "    }\n",
       "\n",
       "    .dataframe tbody tr th {\n",
       "        vertical-align: top;\n",
       "    }\n",
       "\n",
       "    .dataframe thead th {\n",
       "        text-align: right;\n",
       "    }\n",
       "</style>\n",
       "<table border=\"1\" class=\"dataframe\">\n",
       "  <thead>\n",
       "    <tr style=\"text-align: right;\">\n",
       "      <th></th>\n",
       "      <th>Feature 1</th>\n",
       "      <th>Feature 2</th>\n",
       "      <th>Class</th>\n",
       "    </tr>\n",
       "  </thead>\n",
       "  <tbody>\n",
       "    <tr>\n",
       "      <th>0</th>\n",
       "      <td>-0.646</td>\n",
       "      <td>0.763</td>\n",
       "      <td>Green</td>\n",
       "    </tr>\n",
       "    <tr>\n",
       "      <th>1</th>\n",
       "      <td>-0.610</td>\n",
       "      <td>0.617</td>\n",
       "      <td>Green</td>\n",
       "    </tr>\n",
       "    <tr>\n",
       "      <th>2</th>\n",
       "      <td>-0.596</td>\n",
       "      <td>0.915</td>\n",
       "      <td>Green</td>\n",
       "    </tr>\n",
       "    <tr>\n",
       "      <th>3</th>\n",
       "      <td>-0.565</td>\n",
       "      <td>0.927</td>\n",
       "      <td>Green</td>\n",
       "    </tr>\n",
       "    <tr>\n",
       "      <th>4</th>\n",
       "      <td>-0.542</td>\n",
       "      <td>0.631</td>\n",
       "      <td>Green</td>\n",
       "    </tr>\n",
       "  </tbody>\n",
       "</table>\n",
       "</div>"
      ],
      "text/plain": [
       "   Feature 1  Feature 2  Class\n",
       "0     -0.646      0.763  Green\n",
       "1     -0.610      0.617  Green\n",
       "2     -0.596      0.915  Green\n",
       "3     -0.565      0.927  Green\n",
       "4     -0.542      0.631  Green"
      ]
     },
     "execution_count": 19,
     "metadata": {},
     "output_type": "execute_result"
    }
   ],
   "source": [
    "df.head()"
   ]
  },
  {
   "cell_type": "code",
   "execution_count": 20,
   "metadata": {},
   "outputs": [],
   "source": [
    "# Change categorical data to number 0-2\n",
    "df[\"Class\"] = pd.Categorical(df[\"Class\"])\n",
    "df[\"Class\"] = df[\"Class\"].cat.codes"
   ]
  },
  {
   "cell_type": "code",
   "execution_count": 21,
   "metadata": {},
   "outputs": [
    {
     "data": {
      "text/html": [
       "<div>\n",
       "<style scoped>\n",
       "    .dataframe tbody tr th:only-of-type {\n",
       "        vertical-align: middle;\n",
       "    }\n",
       "\n",
       "    .dataframe tbody tr th {\n",
       "        vertical-align: top;\n",
       "    }\n",
       "\n",
       "    .dataframe thead th {\n",
       "        text-align: right;\n",
       "    }\n",
       "</style>\n",
       "<table border=\"1\" class=\"dataframe\">\n",
       "  <thead>\n",
       "    <tr style=\"text-align: right;\">\n",
       "      <th></th>\n",
       "      <th>Feature 1</th>\n",
       "      <th>Feature 2</th>\n",
       "      <th>Class</th>\n",
       "    </tr>\n",
       "  </thead>\n",
       "  <tbody>\n",
       "    <tr>\n",
       "      <th>0</th>\n",
       "      <td>-0.646</td>\n",
       "      <td>0.763</td>\n",
       "      <td>2</td>\n",
       "    </tr>\n",
       "    <tr>\n",
       "      <th>1</th>\n",
       "      <td>-0.610</td>\n",
       "      <td>0.617</td>\n",
       "      <td>2</td>\n",
       "    </tr>\n",
       "    <tr>\n",
       "      <th>2</th>\n",
       "      <td>-0.596</td>\n",
       "      <td>0.915</td>\n",
       "      <td>2</td>\n",
       "    </tr>\n",
       "    <tr>\n",
       "      <th>3</th>\n",
       "      <td>-0.565</td>\n",
       "      <td>0.927</td>\n",
       "      <td>2</td>\n",
       "    </tr>\n",
       "    <tr>\n",
       "      <th>4</th>\n",
       "      <td>-0.542</td>\n",
       "      <td>0.631</td>\n",
       "      <td>2</td>\n",
       "    </tr>\n",
       "  </tbody>\n",
       "</table>\n",
       "</div>"
      ],
      "text/plain": [
       "   Feature 1  Feature 2  Class\n",
       "0     -0.646      0.763      2\n",
       "1     -0.610      0.617      2\n",
       "2     -0.596      0.915      2\n",
       "3     -0.565      0.927      2\n",
       "4     -0.542      0.631      2"
      ]
     },
     "execution_count": 21,
     "metadata": {},
     "output_type": "execute_result"
    }
   ],
   "source": [
    "df.head()"
   ]
  },
  {
   "cell_type": "code",
   "execution_count": null,
   "metadata": {},
   "outputs": [],
   "source": [
    "# Change dataframe to numpy matrix\n",
    "data = df.values[:, 0:2]\n",
    "category = df.values[:, 2]"
   ]
  },
  {
   "cell_type": "code",
   "execution_count": 24,
   "metadata": {},
   "outputs": [
    {
     "data": {
      "text/plain": [
       "array([[-0.646,  0.763],\n",
       "       [-0.61 ,  0.617],\n",
       "       [-0.596,  0.915],\n",
       "       [-0.565,  0.927],\n",
       "       [-0.542,  0.631],\n",
       "       [-0.542,  0.941],\n",
       "       [-0.535,  0.848],\n",
       "       [-0.527,  0.615],\n",
       "       [-0.431,  0.505],\n",
       "       [-0.43 ,  0.426],\n",
       "       [-0.429,  0.322],\n",
       "       [-0.417,  0.569],\n",
       "       [-0.4  ,  0.814],\n",
       "       [-0.344, -0.103],\n",
       "       [-0.34 ,  0.322],\n",
       "       [-0.332, -0.129],\n",
       "       [-0.325,  0.343],\n",
       "       [-0.317, -0.069],\n",
       "       [-0.312, -0.67 ],\n",
       "       [-0.312, -0.322],\n",
       "       [-0.308, -0.268],\n",
       "       [-0.299,  0.333],\n",
       "       [-0.289,  0.753],\n",
       "       [-0.285,  0.544],\n",
       "       [-0.26 ,  0.485],\n",
       "       [-0.247,  0.409],\n",
       "       [-0.246, -0.176],\n",
       "       [-0.24 ,  0.41 ],\n",
       "       [-0.235, -0.453],\n",
       "       [-0.201,  0.867],\n",
       "       [-0.199,  0.518],\n",
       "       [-0.193, -0.078],\n",
       "       [-0.187, -0.221],\n",
       "       [-0.173,  0.651],\n",
       "       [-0.151,  0.711],\n",
       "       [-0.104, -0.584],\n",
       "       [-0.092, -0.142],\n",
       "       [-0.066, -0.536],\n",
       "       [-0.062, -0.064],\n",
       "       [-0.058, -0.389],\n",
       "       [-0.052, -0.121],\n",
       "       [-0.021, -0.626],\n",
       "       [ 0.005, -0.666],\n",
       "       [ 0.01 , -0.608],\n",
       "       [ 0.122, -0.331],\n",
       "       [ 0.124,  0.227],\n",
       "       [ 0.136, -0.25 ],\n",
       "       [ 0.143, -0.596],\n",
       "       [ 0.154, -0.373],\n",
       "       [ 0.159, -0.348],\n",
       "       [ 0.177, -0.498],\n",
       "       [ 0.277,  0.493],\n",
       "       [ 0.28 ,  0.251],\n",
       "       [ 0.312,  0.208],\n",
       "       [ 0.321,  0.1  ],\n",
       "       [ 0.333,  0.394],\n",
       "       [ 0.348,  0.038],\n",
       "       [ 0.356,  0.505],\n",
       "       [ 0.357,  0.019],\n",
       "       [ 0.413,  0.075],\n",
       "       [ 0.445,  0.183],\n",
       "       [ 0.462,  0.269],\n",
       "       [ 0.589,  0.436],\n",
       "       [ 0.607,  0.538],\n",
       "       [ 0.637,  0.357],\n",
       "       [ 0.663,  0.458],\n",
       "       [ 0.681,  0.275],\n",
       "       [ 0.695,  0.484],\n",
       "       [ 0.702,  0.099],\n",
       "       [ 0.715,  0.33 ],\n",
       "       [ 0.719,  0.307],\n",
       "       [ 0.724,  0.113],\n",
       "       [ 0.739,  0.432],\n",
       "       [ 0.784,  0.257],\n",
       "       [ 0.797,  0.545]])"
      ]
     },
     "execution_count": 24,
     "metadata": {},
     "output_type": "execute_result"
    }
   ],
   "source": [
    "data"
   ]
  },
  {
   "cell_type": "code",
   "execution_count": 25,
   "metadata": {},
   "outputs": [
    {
     "data": {
      "text/plain": [
       "array([2., 2., 2., 2., 2., 2., 2., 2., 2., 2., 2., 2., 2., 1., 2., 1., 2.,\n",
       "       1., 1., 1., 1., 2., 2., 2., 2., 2., 1., 2., 1., 2., 2., 1., 1., 2.,\n",
       "       2., 1., 1., 1., 1., 1., 1., 1., 1., 1., 1., 0., 1., 1., 1., 1., 1.,\n",
       "       0., 0., 0., 0., 0., 0., 0., 0., 0., 0., 0., 0., 0., 0., 0., 0., 0.,\n",
       "       0., 0., 0., 0., 0., 0., 0.])"
      ]
     },
     "execution_count": 25,
     "metadata": {},
     "output_type": "execute_result"
    }
   ],
   "source": [
    "category"
   ]
  },
  {
   "cell_type": "code",
   "execution_count": 26,
   "metadata": {},
   "outputs": [],
   "source": [
    "# Number of clusters\n",
    "k = 3\n",
    "# Number of training data\n",
    "n = data.shape[0]\n",
    "# Number of features in the data\n",
    "c = data.shape[1]"
   ]
  },
  {
   "cell_type": "code",
   "execution_count": 27,
   "metadata": {},
   "outputs": [],
   "source": [
    "# Generate random centers, here we use sigma and mean to ensure it represent the whole data\n",
    "mean = np.mean(data, axis = 0)\n",
    "std = np.std(data, axis = 0)\n",
    "centers = np.random.randn(k,c)*std + mean"
   ]
  },
  {
   "cell_type": "code",
   "execution_count": 28,
   "metadata": {},
   "outputs": [
    {
     "name": "stdout",
     "output_type": "stream",
     "text": [
      "[[-0.25  0.2 ]\n",
      " [ 0.   -0.1 ]\n",
      " [ 0.25  0.35]]\n"
     ]
    }
   ],
   "source": [
    "# Static data to test\n",
    "centers = np.array([[-0.25, 0.2], [0, -0.1], [0.25, 0.35]])\n",
    "print(centers)"
   ]
  },
  {
   "cell_type": "code",
   "execution_count": 31,
   "metadata": {},
   "outputs": [
    {
     "data": {
      "text/plain": [
       "<matplotlib.collections.PathCollection at 0x7f8d9c944ac8>"
      ]
     },
     "execution_count": 31,
     "metadata": {},
     "output_type": "execute_result"
    },
    {
     "data": {
      "image/png": "[encoded data removed]",
      "text/plain": [
       "<Figure size 432x288 with 1 Axes>"
      ]
     },
     "metadata": {
      "needs_background": "light"
     },
     "output_type": "display_data"
    }
   ],
   "source": [
    "# Plot the data and the centers generated as random\n",
    "colors=['green', 'blue', 'black']\n",
    "for i in range(n):\n",
    "    plt.scatter(data[i, 0], data[i,1], s=7, color = colors[int(category[i])])\n",
    "plt.scatter(centers[:,0], centers[:,1], marker='*', c='g', s=150)"
   ]
  },
  {
   "cell_type": "code",
   "execution_count": 36,
   "metadata": {},
   "outputs": [],
   "source": [
    "def point_centroid_distances(point, centroids):\n",
    "    \n",
    "    # Calculating theta and phi values\n",
    "    phi_list = [((x + 1) * pi / 2) for x in [point[0], centroids[0][0], centroids[1][0], centroids[2][0]]]\n",
    "    theta_list = [((x + 1) * pi / 2) for x in [point[1], centroids[0][1], centroids[1][1], centroids[2][1]]]\n",
    "\n",
    "    # Create a 2 qubit QuantumRegister - two for the vectors, and \n",
    "    # one for the ancillary qubit\n",
    "    qreg = QuantumRegister(3, 'qreg')\n",
    "\n",
    "    # Create a one bit ClassicalRegister to hold the result\n",
    "    # of the measurements\n",
    "    creg = ClassicalRegister(1, 'creg')\n",
    "\n",
    "    qc = QuantumCircuit(qreg, creg, name='qc')\n",
    "\n",
    "    # Get backend using the Aer provider\n",
    "    backend = Aer.get_backend('qasm_simulator')\n",
    "\n",
    "    # Create list to hold the results\n",
    "    results_list = []\n",
    "\n",
    "    # Estimating distances from the new point to the centroids\n",
    "    for i in range(1, 4):\n",
    "        # Apply a Hadamard to the ancillary\n",
    "        qc.h(qreg[2])\n",
    "\n",
    "        # Encode new point and centroid\n",
    "        qc.u3(theta_list[0], phi_list[0], 0, qreg[0])           \n",
    "        qc.u3(theta_list[i], phi_list[i], 0, qreg[1]) \n",
    "\n",
    "        # Perform controlled swap\n",
    "        qc.cswap(qreg[2], qreg[0], qreg[1])\n",
    "        # Apply second Hadamard to ancillary\n",
    "        qc.h(qreg[2])\n",
    "\n",
    "        # Measure ancillary\n",
    "        qc.measure(qreg[2], creg[0])\n",
    "\n",
    "        # Reset qubits\n",
    "        qc.reset(qreg)\n",
    "\n",
    "        # Register and execute job\n",
    "        job = execute(qc, backend=backend, shots=5000)\n",
    "        result = job.result().get_counts(qc)\n",
    "        try:\n",
    "            results_list.append(result['1'])\n",
    "        except:\n",
    "            results_list.append(0)\n",
    "\n",
    "\n",
    "    return results_list"
   ]
  },
  {
   "cell_type": "code",
   "execution_count": 37,
   "metadata": {},
   "outputs": [
    {
     "data": {
      "text/plain": [
       "array([[-0.38266667,  0.42444444],\n",
       "       [-0.07278261, -0.36734783],\n",
       "       [ 0.28317647,  0.43588235]])"
      ]
     },
     "execution_count": 37,
     "metadata": {},
     "output_type": "execute_result"
    }
   ],
   "source": [
    "centers_old = np.zeros(centers.shape) # to store old centers\n",
    "centers_new = deepcopy(centers) # Store new centers\n",
    "\n",
    "data.shape\n",
    "clusters = np.zeros(n)\n",
    "distances = np.zeros((n,k))\n",
    "\n",
    "error = np.linalg.norm(centers_new - centers_old)\n",
    "upper_error = error + 1\n",
    "\n",
    "# When, after an update, the estimate of that center stays the same, exit loop\n",
    "while (error + 0.02) < upper_error:\n",
    "    # Measure the distance to every center\n",
    "    \n",
    "    distances = np.array(list(map(lambda x: point_centroid_distances(x, centers), data)))\n",
    "\n",
    "    # Assign all training data to closest center\n",
    "    clusters = np.argmin(distances, axis = 1)\n",
    "    \n",
    "    centers_old = deepcopy(centers_new)\n",
    "    # Calculate mean for every cluster and update the center\n",
    "    for i in range(k):\n",
    "        centers_new[i] = np.mean(data[clusters == i], axis=0)\n",
    "    upper_error = deepcopy(error)\n",
    "    error = np.linalg.norm(centers_new - centers_old)\n",
    "    if error < 0.02:\n",
    "        break\n",
    "centers_new"
   ]
  },
  {
   "cell_type": "code",
   "execution_count": 39,
   "metadata": {},
   "outputs": [
    {
     "data": {
      "text/plain": [
       "<matplotlib.collections.PathCollection at 0x7f8d9c8cd4e0>"
      ]
     },
     "execution_count": 39,
     "metadata": {},
     "output_type": "execute_result"
    },
    {
     "data": {
      "image/png": "[encoded data removed]",
      "text/plain": [
       "<Figure size 432x288 with 1 Axes>"
      ]
     },
     "metadata": {
      "needs_background": "light"
     },
     "output_type": "display_data"
    }
   ],
   "source": [
    "# Plot the data and the centers generated as random\n",
    "for i in range(n):\n",
    "    plt.scatter(data[i, 0], data[i,1], s=7, color = colors[int(category[i])])\n",
    "plt.scatter(centers_new[:,0], centers_new[:,1], marker='*', c='g', s=150)"
   ]
  },
  {
   "cell_type": "code",
   "execution_count": null,
   "metadata": {},
   "outputs": [],
   "source": []
  }
 ],
 "metadata": {
  "kernelspec": {
   "display_name": "Python 3",
   "language": "python",
   "name": "python3"
  },
  "language_info": {
   "codemirror_mode": {
    "name": "ipython",
    "version": 3
   },
   "file_extension": ".py",
   "mimetype": "text/x-python",
   "name": "python",
   "nbconvert_exporter": "python",
   "pygments_lexer": "ipython3",
   "version": "3.7.3"
  }
 },
 "nbformat": 4,
 "nbformat_minor": 2
}
