{
 "cells": [
  {
   "cell_type": "code",
   "execution_count": 24,
   "metadata": {},
   "outputs": [
    {
     "name": "stdout",
     "output_type": "stream",
     "text": [
      "Requirement already satisfied: gym[atari] in /home/snehal/anaconda3/lib/python3.7/site-packages (0.17.2)\n",
      "Requirement already satisfied: scipy in /home/snehal/anaconda3/lib/python3.7/site-packages (from gym[atari]) (1.2.1)\n",
      "Requirement already satisfied: numpy>=1.10.4 in /home/snehal/anaconda3/lib/python3.7/site-packages (from gym[atari]) (1.16.2)\n",
      "Requirement already satisfied: pyglet<=1.5.0,>=1.4.0 in /home/snehal/anaconda3/lib/python3.7/site-packages (from gym[atari]) (1.5.0)\n",
      "Requirement already satisfied: cloudpickle<1.4.0,>=1.2.0 in /home/snehal/anaconda3/lib/python3.7/site-packages (from gym[atari]) (1.3.0)\n",
      "Collecting opencv-python; extra == \"atari\" (from gym[atari])\n",
      "\u001b[?25l  Downloading https://files.pythonhosted.org/packages/d0/f0/cfe88d262c67825b20d396c778beca21829da061717c7aaa8b421ae5132e/opencv_python-4.2.0.34-cp37-cp37m-manylinux1_x86_64.whl (28.2MB)\n",
      "\u001b[K    100% |████████████████████████████████| 28.2MB 339kB/s ta 0:00:011\n",
      "\u001b[?25hCollecting atari-py~=0.2.0; extra == \"atari\" (from gym[atari])\n",
      "\u001b[?25l  Downloading https://files.pythonhosted.org/packages/8f/ba/1d22e9d2f332f07aaa57041f5dd569c2cb40a92bd6374a0b743ec3dfae97/atari_py-0.2.6-cp37-cp37m-manylinux1_x86_64.whl (2.8MB)\n",
      "\u001b[K    100% |████████████████████████████████| 2.8MB 2.5MB/s ta 0:00:011\n",
      "\u001b[?25hRequirement already satisfied: Pillow; extra == \"atari\" in /home/snehal/anaconda3/lib/python3.7/site-packages (from gym[atari]) (5.4.1)\n",
      "Requirement already satisfied: future in /home/snehal/anaconda3/lib/python3.7/site-packages (from pyglet<=1.5.0,>=1.4.0->gym[atari]) (0.18.2)\n",
      "Requirement already satisfied: six in /home/snehal/anaconda3/lib/python3.7/site-packages (from atari-py~=0.2.0; extra == \"atari\"->gym[atari]) (1.12.0)\n",
      "Installing collected packages: opencv-python, atari-py\n",
      "Successfully installed atari-py-0.2.6 opencv-python-4.2.0.34\n"
     ]
    }
   ],
   "source": [
    "# Install a pip package in the current Jupyter kernel\n",
    "import sys\n",
    "!{sys.executable} -m pip install gym[atari]\n"
   ]
  },
  {
   "cell_type": "markdown",
   "metadata": {},
   "source": [
    "## Importing the packages"
   ]
  },
  {
   "cell_type": "code",
   "execution_count": 3,
   "metadata": {},
   "outputs": [],
   "source": [
    "import numpy as np\n",
    "import gym\n",
    "import random\n",
    "import time\n",
    "from IPython.display import clear_output"
   ]
  },
  {
   "cell_type": "markdown",
   "metadata": {},
   "source": [
    "## Creating the Environment"
   ]
  },
  {
   "cell_type": "code",
   "execution_count": 4,
   "metadata": {},
   "outputs": [],
   "source": [
    "env = gym.make(\"FrozenLake-v0\")"
   ]
  },
  {
   "cell_type": "markdown",
   "metadata": {},
   "source": [
    "## Creating the Q-Table"
   ]
  },
  {
   "cell_type": "code",
   "execution_count": 5,
   "metadata": {},
   "outputs": [],
   "source": [
    "action_space_size = env.action_space.n\n",
    "state_space_size = env.observation_space.n\n",
    "\n",
    "q_table = np.zeros((state_space_size, action_space_size))"
   ]
  },
  {
   "cell_type": "code",
   "execution_count": 6,
   "metadata": {},
   "outputs": [
    {
     "name": "stdout",
     "output_type": "stream",
     "text": [
      "[[0. 0. 0. 0.]\n",
      " [0. 0. 0. 0.]\n",
      " [0. 0. 0. 0.]\n",
      " [0. 0. 0. 0.]\n",
      " [0. 0. 0. 0.]\n",
      " [0. 0. 0. 0.]\n",
      " [0. 0. 0. 0.]\n",
      " [0. 0. 0. 0.]\n",
      " [0. 0. 0. 0.]\n",
      " [0. 0. 0. 0.]\n",
      " [0. 0. 0. 0.]\n",
      " [0. 0. 0. 0.]\n",
      " [0. 0. 0. 0.]\n",
      " [0. 0. 0. 0.]\n",
      " [0. 0. 0. 0.]\n",
      " [0. 0. 0. 0.]]\n"
     ]
    }
   ],
   "source": [
    "print(q_table)"
   ]
  },
  {
   "cell_type": "markdown",
   "metadata": {},
   "source": [
    "## Initialising Q-Learning Parameters"
   ]
  },
  {
   "cell_type": "code",
   "execution_count": 14,
   "metadata": {},
   "outputs": [],
   "source": [
    "num_episodes = 100000\n",
    "max_steps_per_episode = 100\n",
    "\n",
    "learning_rate = 0.1\n",
    "discount_rate = 0.99\n",
    "\n",
    "exploration_rate = 1\n",
    "max_exploration_rate = 1\n",
    "min_exploration_rate = 0.01\n",
    "exploration_decay_rate = 0.001"
   ]
  },
  {
   "cell_type": "markdown",
   "metadata": {},
   "source": [
    "## Coding the Q-learning algorithm training loop"
   ]
  },
  {
   "cell_type": "code",
   "execution_count": 15,
   "metadata": {},
   "outputs": [],
   "source": [
    "rewards_all_episodes = []"
   ]
  },
  {
   "cell_type": "code",
   "execution_count": 16,
   "metadata": {},
   "outputs": [],
   "source": [
    "# Q-learning algorithm\n",
    "for episode in range(num_episodes):\n",
    "    # initialize new episode params\n",
    "    state = env.reset()\n",
    "    done = False\n",
    "    rewards_current_episode = 0\n",
    "    for step in range(max_steps_per_episode): \n",
    "        # Exploration-exploitation trade-off\n",
    "        exploration_rate_threshold = random.uniform(0, 1)\n",
    "        if exploration_rate_threshold > exploration_rate:\n",
    "            action = np.argmax(q_table[state,:]) \n",
    "        else:\n",
    "            action = env.action_space.sample()\n",
    "        # Take new action\n",
    "        new_state, reward, done, info = env.step(action)\n",
    "        # Update Q-table\n",
    "        q_table[state, action] = q_table[state, action] * (1 - learning_rate) + \\\n",
    "        learning_rate * (reward + discount_rate * np.max(q_table[new_state, :]))\n",
    "        # Set new state\n",
    "        state = new_state\n",
    "        # Add new reward        \n",
    "        rewards_current_episode += reward\n",
    "        if done == True: \n",
    "            break\n",
    "    # Exploration rate decay\n",
    "    exploration_rate = min_exploration_rate + \\\n",
    "    (max_exploration_rate - min_exploration_rate) * np.exp(-exploration_decay_rate*episode)\n",
    "    # Add current episode reward to total rewards list\n",
    "    rewards_all_episodes.append(rewards_current_episode)"
   ]
  },
  {
   "cell_type": "markdown",
   "metadata": {},
   "source": [
    "## Calculate and print the average reward per thousand episodes"
   ]
  },
  {
   "cell_type": "code",
   "execution_count": 17,
   "metadata": {},
   "outputs": [
    {
     "name": "stdout",
     "output_type": "stream",
     "text": [
      "********Average reward per thousand episodes********\n",
      "\n",
      "1000 :  0.05600000000000004\n",
      "2000 :  0.20200000000000015\n",
      "3000 :  0.4120000000000003\n",
      "4000 :  0.5540000000000004\n",
      "5000 :  0.6400000000000005\n",
      "6000 :  0.6550000000000005\n",
      "7000 :  0.6690000000000005\n",
      "8000 :  0.7080000000000005\n",
      "9000 :  0.6960000000000005\n",
      "10000 :  0.6550000000000005\n",
      "11000 :  0.6720000000000005\n",
      "12000 :  0.6790000000000005\n",
      "13000 :  0.6790000000000005\n",
      "14000 :  0.6840000000000005\n",
      "15000 :  0.6520000000000005\n",
      "16000 :  0.6950000000000005\n",
      "17000 :  0.6950000000000005\n",
      "18000 :  0.6820000000000005\n",
      "19000 :  0.6820000000000005\n",
      "20000 :  0.6820000000000005\n",
      "21000 :  0.6860000000000005\n",
      "22000 :  0.7150000000000005\n",
      "23000 :  0.6650000000000005\n",
      "24000 :  0.6920000000000005\n",
      "25000 :  0.6910000000000005\n",
      "26000 :  0.6680000000000005\n",
      "27000 :  0.6770000000000005\n",
      "28000 :  0.6740000000000005\n",
      "29000 :  0.6900000000000005\n",
      "30000 :  0.6580000000000005\n",
      "31000 :  0.6920000000000005\n",
      "32000 :  0.6870000000000005\n",
      "33000 :  0.6740000000000005\n",
      "34000 :  0.6910000000000005\n",
      "35000 :  0.6850000000000005\n",
      "36000 :  0.7040000000000005\n",
      "37000 :  0.6760000000000005\n",
      "38000 :  0.7150000000000005\n",
      "39000 :  0.6750000000000005\n",
      "40000 :  0.6860000000000005\n",
      "41000 :  0.6580000000000005\n",
      "42000 :  0.7080000000000005\n",
      "43000 :  0.7010000000000005\n",
      "44000 :  0.7080000000000005\n",
      "45000 :  0.7070000000000005\n",
      "46000 :  0.6880000000000005\n",
      "47000 :  0.6770000000000005\n",
      "48000 :  0.6870000000000005\n",
      "49000 :  0.6920000000000005\n",
      "50000 :  0.6810000000000005\n",
      "51000 :  0.7020000000000005\n",
      "52000 :  0.6520000000000005\n",
      "53000 :  0.7230000000000005\n",
      "54000 :  0.7050000000000005\n",
      "55000 :  0.6920000000000005\n",
      "56000 :  0.6650000000000005\n",
      "57000 :  0.6900000000000005\n",
      "58000 :  0.6860000000000005\n",
      "59000 :  0.6860000000000005\n",
      "60000 :  0.6650000000000005\n",
      "61000 :  0.7050000000000005\n",
      "62000 :  0.6650000000000005\n",
      "63000 :  0.6900000000000005\n",
      "64000 :  0.6920000000000005\n",
      "65000 :  0.6590000000000005\n",
      "66000 :  0.6960000000000005\n",
      "67000 :  0.6770000000000005\n",
      "68000 :  0.7030000000000005\n",
      "69000 :  0.6910000000000005\n",
      "70000 :  0.6620000000000005\n",
      "71000 :  0.6860000000000005\n",
      "72000 :  0.7020000000000005\n",
      "73000 :  0.6880000000000005\n",
      "74000 :  0.7010000000000005\n",
      "75000 :  0.6910000000000005\n",
      "76000 :  0.7290000000000005\n",
      "77000 :  0.6860000000000005\n",
      "78000 :  0.6620000000000005\n",
      "79000 :  0.7050000000000005\n",
      "80000 :  0.7130000000000005\n",
      "81000 :  0.6880000000000005\n",
      "82000 :  0.6730000000000005\n",
      "83000 :  0.6780000000000005\n",
      "84000 :  0.6900000000000005\n",
      "85000 :  0.6570000000000005\n",
      "86000 :  0.6890000000000005\n",
      "87000 :  0.6820000000000005\n",
      "88000 :  0.6690000000000005\n",
      "89000 :  0.6560000000000005\n",
      "90000 :  0.6910000000000005\n",
      "91000 :  0.7090000000000005\n",
      "92000 :  0.7030000000000005\n",
      "93000 :  0.6800000000000005\n",
      "94000 :  0.6890000000000005\n",
      "95000 :  0.6820000000000005\n",
      "96000 :  0.6650000000000005\n",
      "97000 :  0.6790000000000005\n",
      "98000 :  0.6740000000000005\n",
      "99000 :  0.6780000000000005\n",
      "100000 :  0.6920000000000005\n"
     ]
    }
   ],
   "source": [
    "rewards_per_thousand_episodes = np.split(np.array(rewards_all_episodes),num_episodes/1000)\n",
    "count = 1000\n",
    "\n",
    "print(\"********Average reward per thousand episodes********\\n\")\n",
    "for r in rewards_per_thousand_episodes:\n",
    "    print(count, \": \", str(sum(r/1000)))\n",
    "    count += 1000"
   ]
  },
  {
   "cell_type": "markdown",
   "metadata": {},
   "source": [
    "## Print Updated Q-Table"
   ]
  },
  {
   "cell_type": "code",
   "execution_count": 11,
   "metadata": {},
   "outputs": [
    {
     "name": "stdout",
     "output_type": "stream",
     "text": [
      "\n",
      "\n",
      "********Q-table********\n",
      "\n",
      "[[0.55269784 0.50553472 0.50682085 0.49044183]\n",
      " [0.27463951 0.34778705 0.23572783 0.42958499]\n",
      " [0.35796266 0.23771678 0.30866171 0.25568589]\n",
      " [0.15763271 0.07086018 0.00906744 0.08659856]\n",
      " [0.56203893 0.39069814 0.45704476 0.4470313 ]\n",
      " [0.         0.         0.         0.        ]\n",
      " [0.29868685 0.12475038 0.16635737 0.11847088]\n",
      " [0.         0.         0.         0.        ]\n",
      " [0.31509875 0.38263667 0.27869605 0.58844294]\n",
      " [0.4941522  0.66413006 0.47004997 0.30682567]\n",
      " [0.67545811 0.37097555 0.30006806 0.40181266]\n",
      " [0.         0.         0.         0.        ]\n",
      " [0.         0.         0.         0.        ]\n",
      " [0.48744056 0.59465846 0.76997984 0.40277616]\n",
      " [0.75077922 0.86321888 0.74784245 0.76289645]\n",
      " [0.         0.         0.         0.        ]]\n"
     ]
    }
   ],
   "source": [
    "print(\"\\n\\n********Q-table********\\n\")\n",
    "print(q_table)\n"
   ]
  },
  {
   "cell_type": "markdown",
   "metadata": {},
   "source": [
    "## Watching the agent play the game"
   ]
  },
  {
   "cell_type": "code",
   "execution_count": 18,
   "metadata": {},
   "outputs": [
    {
     "name": "stdout",
     "output_type": "stream",
     "text": [
      "  (Down)\n",
      "SFFF\n",
      "FHFH\n",
      "FFFH\n",
      "HFF\u001b[41mG\u001b[0m\n",
      "****You reached the goal!****\n"
     ]
    }
   ],
   "source": [
    "# Watch our agent play Frozen Lake by playing the best action \n",
    "# from each state according to the Q-table\n",
    "\n",
    "for episode in range(11):\n",
    "    # initialize new episode params\n",
    "    state = env.reset()\n",
    "    done = False\n",
    "    print(\"*****EPISODE \", episode+1, \"*****\\n\\n\\n\\n\")\n",
    "    time.sleep(1)\n",
    "    for step in range(max_steps_per_episode):        \n",
    "        # Show current state of environment on screen\n",
    "        clear_output(wait=True)\n",
    "        env.render()\n",
    "        time.sleep(0.3)\n",
    "        # Choose action with highest Q-value for current state\n",
    "        action = np.argmax(q_table[state,:])\n",
    "        # Take new action\n",
    "        new_state, reward, done, info = env.step(action)\n",
    "\n",
    "        if done:\n",
    "            clear_output(wait=True)\n",
    "            env.render()\n",
    "            if reward == 1:\n",
    "                # Agent reached the goal and won episode\n",
    "                print(\"****You reached the goal!****\")\n",
    "                time.sleep(3)\n",
    "            else:\n",
    "                # Agent stepped in a hole and lost episode\n",
    "                print(\"****You fell through a hole!****\")\n",
    "                time.sleep(3)\n",
    "                clear_output(wait=True)\n",
    "            break\n",
    "        # Set new state\n",
    "        state = new_state\n",
    "env.close()"
   ]
  },
  {
   "cell_type": "code",
   "execution_count": null,
   "metadata": {},
   "outputs": [],
   "source": []
  },
  {
   "cell_type": "code",
   "execution_count": null,
   "metadata": {},
   "outputs": [],
   "source": []
  },
  {
   "cell_type": "code",
   "execution_count": null,
   "metadata": {},
   "outputs": [],
   "source": []
  }
 ],
 "metadata": {
  "kernelspec": {
   "display_name": "Python 3",
   "language": "python",
   "name": "python3"
  },
  "language_info": {
   "codemirror_mode": {
    "name": "ipython",
    "version": 3
   },
   "file_extension": ".py",
   "mimetype": "text/x-python",
   "name": "python",
   "nbconvert_exporter": "python",
   "pygments_lexer": "ipython3",
   "version": "3.7.3"
  }
 },
 "nbformat": 4,
 "nbformat_minor": 2
}
