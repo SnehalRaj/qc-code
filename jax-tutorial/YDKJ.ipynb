{
  "nbformat": 4,
  "nbformat_minor": 0,
  "metadata": {
    "colab": {
      "name": "YDKJ.ipynb",
      "provenance": []
    },
    "kernelspec": {
      "name": "python3",
      "display_name": "Python 3"
    },
    "language_info": {
      "name": "python"
    }
  },
  "cells": [
    {
      "cell_type": "code",
      "execution_count": 1,
      "metadata": {
        "id": "eoakfS1Zu64b"
      },
      "outputs": [],
      "source": [
        "import random\n",
        "import itertools\n",
        "\n",
        "import jax\n",
        "import jax.numpy as jnp\n",
        "import numpy as np\n",
        "\n",
        "from __future__ import print_function"
      ]
    },
    {
      "cell_type": "markdown",
      "source": [
        "### Neural Network: Single hidden layer with 3 neurons"
      ],
      "metadata": {
        "id": "iX6p3468vdSr"
      }
    },
    {
      "cell_type": "code",
      "source": [
        "from jax._src.lax.lax import bitwise_xor\n",
        "def sigmoid(x):\n",
        "  return 1/(1+jnp.exp(-x))\n",
        "\n",
        "def net(params, x):\n",
        "  w1, b1, w2, b2 = params\n",
        "  hidden = jnp.tanh(jnp.dot(w1, x)+b1)\n",
        "  return sigmoid(jnp.dot(w2, hidden)+b2)\n",
        "\n",
        "def loss(params, x, y):\n",
        "  out = net(params, x)\n",
        "  cross_entropy = -y*jnp.log(out) - (1 - y)*jnp.log(1 - out)\n",
        "  return cross_entropy\n",
        "\n",
        "def test_all_outputs(inputs, params):\n",
        "  predictions = [int(net(params, inp) > 0.5) for inp in inputs]\n",
        "  for inp, out in zip(inputs, predictions):\n",
        "    print(inp, '->', out)\n",
        "  return (predictions == [np.bitwise_xor(*inp) for inp in inputs])"
      ],
      "metadata": {
        "id": "ZlGXNqeNvEsB"
      },
      "execution_count": 24,
      "outputs": []
    },
    {
      "cell_type": "code",
      "source": [
        "def initial_params():\n",
        "    return [\n",
        "        np.random.randn(3, 2),  # w1\n",
        "        np.random.randn(3),  # b1\n",
        "        np.random.randn(3),  # w2\n",
        "        np.random.randn(),  #b2\n",
        "    ]"
      ],
      "metadata": {
        "id": "AU4HVQ9-y3JU"
      },
      "execution_count": 25,
      "outputs": []
    },
    {
      "cell_type": "code",
      "source": [
        "initial_params()"
      ],
      "metadata": {
        "colab": {
          "base_uri": "https://localhost:8080/"
        },
        "id": "2aF-acTfy5Y7",
        "outputId": "4f368ee4-b55d-403e-ab89-a2386165fef6"
      },
      "execution_count": 26,
      "outputs": [
        {
          "output_type": "execute_result",
          "data": {
            "text/plain": [
              "[array([[ 0.2288743 , -0.2190556 ],\n",
              "        [-0.81096588, -0.12031487],\n",
              "        [-0.46920282,  1.2080414 ]]),\n",
              " array([-0.13427283, -0.23177895,  1.08305937]),\n",
              " array([ 0.48815877,  0.4180898 , -1.46185995]),\n",
              " -0.868907718455939]"
            ]
          },
          "metadata": {},
          "execution_count": 26
        }
      ]
    },
    {
      "cell_type": "code",
      "source": [
        "loss_grad = jax.grad(loss)\n",
        "\n",
        "learning_rate = 1.\n",
        "\n",
        "inputs = jnp.array([[0,0],[0,1],[1,0],[1,1]])\n",
        "\n",
        "params = initial_params()\n",
        "\n",
        "for n in itertools.count():\n",
        "  x = inputs[np.random.choice(inputs.shape[0])]\n",
        "\n",
        "  y = np.bitwise_xor(*x)\n",
        "  grads = loss_grad(params, x, y)\n",
        "  params = [ (param - learning_rate*grad) for param, grad in zip(params, grads)]\n",
        "  if not n % 100:\n",
        "    print(\"Iteration {}\".format(n))\n",
        "    if test_all_outputs(inputs, params):\n",
        "      break\n"
      ],
      "metadata": {
        "colab": {
          "base_uri": "https://localhost:8080/"
        },
        "id": "ItrjuuTXy7Ja",
        "outputId": "fe4bb405-b6ed-4bb2-d65b-5ba72b3ea32c"
      },
      "execution_count": 27,
      "outputs": [
        {
          "output_type": "stream",
          "name": "stdout",
          "text": [
            "Iteration 0\n",
            "[0 0] -> 0\n",
            "[0 1] -> 0\n",
            "[1 0] -> 0\n",
            "[1 1] -> 0\n",
            "Iteration 100\n",
            "[0 0] -> 0\n",
            "[0 1] -> 1\n",
            "[1 0] -> 1\n",
            "[1 1] -> 1\n",
            "Iteration 200\n",
            "[0 0] -> 0\n",
            "[0 1] -> 1\n",
            "[1 0] -> 1\n",
            "[1 1] -> 0\n"
          ]
        }
      ]
    },
    {
      "cell_type": "markdown",
      "source": [
        "## jax.jit"
      ],
      "metadata": {
        "id": "tuEUd_tW6SO-"
      }
    },
    {
      "cell_type": "code",
      "source": [
        "loss_grad = jax.jit(jax.grad(loss))\n",
        "\n",
        "learning_rate = 1.\n",
        "\n",
        "inputs = jnp.array([[0,0],[0,1],[1,0],[1,1]])\n",
        "\n",
        "params = initial_params()\n",
        "\n",
        "for n in itertools.count():\n",
        "  x = inputs[np.random.choice(inputs.shape[0])]\n",
        "\n",
        "  y = np.bitwise_xor(*x)\n",
        "  grads = loss_grad(params, x, y)\n",
        "  params = [ (param - learning_rate*grad) for param, grad in zip(params, grads)]\n",
        "  if not n % 100:\n",
        "    print(\"Iteration {}\".format(n))\n",
        "    if test_all_outputs(inputs, params):\n",
        "      break\n"
      ],
      "metadata": {
        "colab": {
          "base_uri": "https://localhost:8080/"
        },
        "id": "xlBU4B6O3RDm",
        "outputId": "322b8425-fb9b-4294-cd8a-7166dd13b424"
      },
      "execution_count": 30,
      "outputs": [
        {
          "output_type": "stream",
          "name": "stdout",
          "text": [
            "Iteration 0\n",
            "[0 0] -> 1\n",
            "[0 1] -> 1\n",
            "[1 0] -> 1\n",
            "[1 1] -> 1\n",
            "Iteration 100\n",
            "[0 0] -> 0\n",
            "[0 1] -> 1\n",
            "[1 0] -> 1\n",
            "[1 1] -> 0\n"
          ]
        }
      ]
    },
    {
      "cell_type": "code",
      "source": [
        "loss_grad = jax.jit(jax.vmap(jax.grad(loss), in_axes = (None, 0, 0), out_axes = 0))\n",
        "\n",
        "params = initial_params()\n",
        "\n",
        "batch_size = 100\n",
        "\n",
        "for n in itertools.count():\n",
        "\n",
        "  x = inputs[np.random.choice(inputs.shape[0], size=batch_size)]\n",
        "  \n",
        "  y = np.bitwise_xor( x[:, 0], x[:, 1])\n",
        "\n",
        "  grads = loss_grad(params, x, y)\n",
        "\n",
        "  params = [param - learning_rate * np.mean(grad,axis=0) for param,grad in zip(params, grads)]\n",
        "\n",
        "  if not n%100:\n",
        "    print('Iteration {}'.format(n))\n",
        "    if test_all_outputs(inputs, params):\n",
        "      break"
      ],
      "metadata": {
        "colab": {
          "base_uri": "https://localhost:8080/"
        },
        "id": "4WmNSEz93Ran",
        "outputId": "5519daad-4879-40cf-b525-24346f2d93a7"
      },
      "execution_count": 31,
      "outputs": [
        {
          "output_type": "stream",
          "name": "stdout",
          "text": [
            "Iteration 0\n",
            "[0 0] -> 1\n",
            "[0 1] -> 1\n",
            "[1 0] -> 0\n",
            "[1 1] -> 0\n",
            "Iteration 100\n",
            "[0 0] -> 0\n",
            "[0 1] -> 1\n",
            "[1 0] -> 1\n",
            "[1 1] -> 0\n"
          ]
        }
      ]
    },
    {
      "cell_type": "code",
      "source": [
        ""
      ],
      "metadata": {
        "id": "-5O0p3gEFuAk"
      },
      "execution_count": null,
      "outputs": []
    }
  ]
}